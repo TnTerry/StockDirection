{
  "cells": [
    {
      "cell_type": "markdown",
      "metadata": {
        "id": "view-in-github",
        "colab_type": "text"
      },
      "source": [
        "<a href=\"https://colab.research.google.com/github/TnTerry/StockDirection/blob/main/Preparation.ipynb\" target=\"_parent\"><img src=\"https://colab.research.google.com/assets/colab-badge.svg\" alt=\"Open In Colab\"/></a>"
      ]
    },
    {
      "cell_type": "markdown",
      "metadata": {
        "id": "L1_nyYOCfMUd"
      },
      "source": [
        "# 数据创建\n"
      ]
    },
    {
      "cell_type": "code",
      "execution_count": null,
      "metadata": {
        "id": "-ZSR0OR17scp"
      },
      "outputs": [],
      "source": [
        "!pip install tushare"
      ]
    },
    {
      "cell_type": "code",
      "execution_count": null,
      "metadata": {
        "colab": {
          "base_uri": "https://localhost:8080/"
        },
        "id": "UQIShHSTtct_",
        "outputId": "8ff26287-8212-4dc7-8d08-6cf8eb019fae"
      },
      "outputs": [
        {
          "output_type": "stream",
          "name": "stdout",
          "text": [
            "Mounted at /content/drive\n"
          ]
        }
      ],
      "source": [
        "import pandas as pd\n",
        "import numpy as np\n",
        "from glob import glob\n",
        "from tqdm import tqdm\n",
        "\n",
        "import tushare as ts\n",
        "ts.set_token('217269f8e0e67c7db7d4da55a552dd2de030df524cd4639ed53a224d')\n",
        "\n",
        "from google.colab import drive\n",
        "drive.mount('/content/drive')"
      ]
    },
    {
      "cell_type": "markdown",
      "metadata": {
        "id": "d1v4Fng5t2T7"
      },
      "source": [
        "## 合并新闻数据\n",
        "\n",
        "只需要首次运行，后续可以直接跳过"
      ]
    },
    {
      "cell_type": "markdown",
      "metadata": {
        "id": "LTc5ov3eeviF"
      },
      "source": [
        "分别将东方证券（eastmoney）和新浪网（sina）的新闻数据批量导入，并合并成为dataframe格式"
      ]
    },
    {
      "cell_type": "code",
      "execution_count": null,
      "metadata": {
        "id": "hiWsPaDfebYN"
      },
      "outputs": [],
      "source": [
        "news_file_east_money = glob(r\"*_news_data_eastmoney.csv\")\n",
        "news_file_sina = glob(r\"*_news_data_sina.csv\")"
      ]
    },
    {
      "cell_type": "code",
      "execution_count": null,
      "metadata": {
        "colab": {
          "base_uri": "https://localhost:8080/"
        },
        "id": "QIEJqIZUGp5J",
        "outputId": "c9c2f10d-9cdb-40c5-edc2-37b13b4e32f1"
      },
      "outputs": [
        {
          "name": "stderr",
          "output_type": "stream",
          "text": [
            "100%|██████████| 4/4 [00:06<00:00,  1.60s/it]\n"
          ]
        }
      ],
      "source": [
        "file_name = news_file_east_money[0]\n",
        "east_money_df = pd.read_csv(file_name)\n",
        "\n",
        "for file_name in tqdm(news_file_east_money[1:]):\n",
        "  df_i = pd.read_csv(file_name)\n",
        "  east_money_df = pd.concat([east_money_df, df_i])\n",
        "\n",
        "east_money_df.reset_index(inplace = True)\n",
        "east_money_df.dropna(inplace = True)"
      ]
    },
    {
      "cell_type": "code",
      "execution_count": null,
      "metadata": {
        "colab": {
          "base_uri": "https://localhost:8080/"
        },
        "id": "hB46puo9H4i0",
        "outputId": "a55c4aec-ad8c-4df2-d708-0bca293f5056"
      },
      "outputs": [
        {
          "name": "stderr",
          "output_type": "stream",
          "text": [
            "100%|██████████| 4/4 [00:08<00:00,  2.03s/it]\n"
          ]
        },
        {
          "data": {
            "text/html": [
              "<div>\n",
              "<style scoped>\n",
              "    .dataframe tbody tr th:only-of-type {\n",
              "        vertical-align: middle;\n",
              "    }\n",
              "\n",
              "    .dataframe tbody tr th {\n",
              "        vertical-align: top;\n",
              "    }\n",
              "\n",
              "    .dataframe thead th {\n",
              "        text-align: right;\n",
              "    }\n",
              "</style>\n",
              "<table border=\"1\" class=\"dataframe\">\n",
              "  <thead>\n",
              "    <tr style=\"text-align: right;\">\n",
              "      <th></th>\n",
              "      <th>datetime</th>\n",
              "      <th>content</th>\n",
              "    </tr>\n",
              "  </thead>\n",
              "  <tbody>\n",
              "    <tr>\n",
              "      <th>0</th>\n",
              "      <td>2018-10-08 23:59:42</td>\n",
              "      <td>恐慌指数VIX报18.38，触及6月28日以来日内最高点。</td>\n",
              "    </tr>\n",
              "    <tr>\n",
              "      <th>1</th>\n",
              "      <td>2018-10-08 23:49:13</td>\n",
              "      <td>道指跌超200点。</td>\n",
              "    </tr>\n",
              "    <tr>\n",
              "      <th>2</th>\n",
              "      <td>2018-10-08 23:44:58</td>\n",
              "      <td>道指跌150点。</td>\n",
              "    </tr>\n",
              "    <tr>\n",
              "      <th>3</th>\n",
              "      <td>2018-10-08 23:40:13</td>\n",
              "      <td>富时泛欧绩优300指数初步收跌1.13%。</td>\n",
              "    </tr>\n",
              "    <tr>\n",
              "      <th>4</th>\n",
              "      <td>2018-10-08 23:40:13</td>\n",
              "      <td>富时泛欧绩优300指数初步收跌1.13%。</td>\n",
              "    </tr>\n",
              "  </tbody>\n",
              "</table>\n",
              "</div>"
            ],
            "text/plain": [
              "              datetime                        content\n",
              "0  2018-10-08 23:59:42  恐慌指数VIX报18.38，触及6月28日以来日内最高点。\n",
              "1  2018-10-08 23:49:13                      道指跌超200点。\n",
              "2  2018-10-08 23:44:58                       道指跌150点。\n",
              "3  2018-10-08 23:40:13          富时泛欧绩优300指数初步收跌1.13%。\n",
              "4  2018-10-08 23:40:13          富时泛欧绩优300指数初步收跌1.13%。"
            ]
          },
          "execution_count": 4,
          "metadata": {},
          "output_type": "execute_result"
        }
      ],
      "source": [
        "file_name = news_file_sina[0]\n",
        "sina_df = pd.read_csv(file_name)\n",
        "\n",
        "for file_name in tqdm(news_file_sina[1:]):\n",
        "  df_i = pd.read_csv(file_name)\n",
        "  sina_df = pd.concat([sina_df, df_i])\n",
        "\n",
        "sina_df.reset_index(inplace = True)\n",
        "sina_df = sina_df.loc[:,['datetime','content']]\n",
        "sina_df.head()"
      ]
    },
    {
      "cell_type": "code",
      "execution_count": null,
      "metadata": {
        "id": "kdKG8bWB7khp"
      },
      "outputs": [],
      "source": [
        "east_money_df = east_money_df.loc[:,['datetime','title']]\n",
        "east_money_df.columns = ['datetime','content']"
      ]
    },
    {
      "cell_type": "code",
      "execution_count": null,
      "metadata": {
        "id": "q7IrpedP7khp"
      },
      "outputs": [],
      "source": [
        "sina_df.dropna(inplace=True)"
      ]
    },
    {
      "cell_type": "code",
      "execution_count": null,
      "metadata": {
        "id": "u5T0sEsy7khq",
        "outputId": "7c4a4043-34a8-4747-c14b-165982a895b0"
      },
      "outputs": [
        {
          "data": {
            "text/plain": [
              "((556808, 2), (1021875, 2))"
            ]
          },
          "execution_count": 7,
          "metadata": {},
          "output_type": "execute_result"
        }
      ],
      "source": [
        "east_money_df.shape, sina_df.shape"
      ]
    },
    {
      "cell_type": "code",
      "execution_count": null,
      "metadata": {
        "id": "RO7EiYxR7khq",
        "outputId": "a30ff3e4-a30d-4587-9b96-50c4dc1e26b6"
      },
      "outputs": [
        {
          "data": {
            "text/html": [
              "<div>\n",
              "<style scoped>\n",
              "    .dataframe tbody tr th:only-of-type {\n",
              "        vertical-align: middle;\n",
              "    }\n",
              "\n",
              "    .dataframe tbody tr th {\n",
              "        vertical-align: top;\n",
              "    }\n",
              "\n",
              "    .dataframe thead th {\n",
              "        text-align: right;\n",
              "    }\n",
              "</style>\n",
              "<table border=\"1\" class=\"dataframe\">\n",
              "  <thead>\n",
              "    <tr style=\"text-align: right;\">\n",
              "      <th></th>\n",
              "      <th>datetime</th>\n",
              "      <th>content</th>\n",
              "    </tr>\n",
              "  </thead>\n",
              "  <tbody>\n",
              "    <tr>\n",
              "      <th>0</th>\n",
              "      <td>2018-10-25 23:59:17</td>\n",
              "      <td>品钛美股上市首日开盘价14.35美元 较发行价涨21%</td>\n",
              "    </tr>\n",
              "    <tr>\n",
              "      <th>1</th>\n",
              "      <td>2018-10-25 23:45:08</td>\n",
              "      <td>国内商品期货夜盘涨跌互现 焦煤涨近2%</td>\n",
              "    </tr>\n",
              "    <tr>\n",
              "      <th>2</th>\n",
              "      <td>2018-10-25 23:35:07</td>\n",
              "      <td>在岸人民币兑美元(CNY)收报6.9499元</td>\n",
              "    </tr>\n",
              "    <tr>\n",
              "      <th>3</th>\n",
              "      <td>2018-10-25 23:30:14</td>\n",
              "      <td>王岐山访问以色列</td>\n",
              "    </tr>\n",
              "    <tr>\n",
              "      <th>4</th>\n",
              "      <td>2018-10-25 23:19:17</td>\n",
              "      <td>农业农村部公布第一批农药登记试验单位认定名单</td>\n",
              "    </tr>\n",
              "  </tbody>\n",
              "</table>\n",
              "</div>"
            ],
            "text/plain": [
              "              datetime                      content\n",
              "0  2018-10-25 23:59:17  品钛美股上市首日开盘价14.35美元 较发行价涨21%\n",
              "1  2018-10-25 23:45:08          国内商品期货夜盘涨跌互现 焦煤涨近2%\n",
              "2  2018-10-25 23:35:07       在岸人民币兑美元(CNY)收报6.9499元\n",
              "3  2018-10-25 23:30:14                     王岐山访问以色列\n",
              "4  2018-10-25 23:19:17       农业农村部公布第一批农药登记试验单位认定名单"
            ]
          },
          "execution_count": 8,
          "metadata": {},
          "output_type": "execute_result"
        }
      ],
      "source": [
        "total_news_df = pd.concat([east_money_df, sina_df]).reset_index(drop=True)\n",
        "total_news_df.head()"
      ]
    },
    {
      "cell_type": "markdown",
      "metadata": {
        "id": "IQ1mnlcIupb3"
      },
      "source": [
        "## 新闻数据清洗\n",
        "\n",
        "提取新闻中股票对应的名称和代码，未提取出来的赋值为UNK。\n",
        "\n",
        "只需要首次运行，后续可以直接跳过\n",
        "\n",
        "输出文件路径：/content/drive/MyDrive/Thesis/Data/east_money_df_code.hdf, key = news_data"
      ]
    },
    {
      "cell_type": "code",
      "execution_count": null,
      "metadata": {
        "id": "zKvTm3HJuzDc"
      },
      "outputs": [],
      "source": [
        "pro = ts.pro_api()"
      ]
    },
    {
      "cell_type": "code",
      "execution_count": null,
      "metadata": {
        "id": "-5_u3KGTvvzp"
      },
      "outputs": [],
      "source": [
        "pro = ts.pro_api()\n",
        "data = pro.stock_basic(exchange='', list_status='L', fields='ts_code,symbol,name,area,industry,list_date', market = \"主板\")"
      ]
    },
    {
      "cell_type": "code",
      "execution_count": null,
      "metadata": {
        "colab": {
          "base_uri": "https://localhost:8080/"
        },
        "id": "CVyy6JbMHNJu",
        "outputId": "f69fe3bb-b783-4c4c-b039-38131ed071c7"
      },
      "outputs": [
        {
          "data": {
            "text/plain": [
              "array(['SZ', 'SH'], dtype=object)"
            ]
          },
          "execution_count": 11,
          "metadata": {},
          "output_type": "execute_result"
        }
      ],
      "source": [
        "(data['ts_code'].apply(lambda x: x[-2:])).unique()"
      ]
    },
    {
      "cell_type": "code",
      "execution_count": null,
      "metadata": {
        "id": "1Bk90HDnwJhg"
      },
      "outputs": [],
      "source": [
        "import re\n",
        "\n",
        "# 使用apply方法和re.sub函数剔除英文字母和数字\n",
        "pattern = re.compile(r'[^\\u4e00-\\u9fa5]')\n",
        "data['name'] = data['name'].apply(lambda x: re.sub(pattern, '', x))"
      ]
    },
    {
      "cell_type": "code",
      "execution_count": null,
      "metadata": {
        "id": "U7c9bMbsNxNK"
      },
      "outputs": [],
      "source": [
        "#\n",
        "company_names = data['name'].to_list()\n",
        "\n",
        "# 将公司名字列表转换为正则表达式\n",
        "regex = '(' + '|'.join(company_names) + ')'\n",
        "\n",
        "# 使用str.contains()函数匹配新闻标题中是否包含上市公司名字\n",
        "mask = total_news_df['content'].str.contains(regex)\n",
        "\n",
        "# 使用where()函数保留包含上市公司名字的行，并设置其他行的值为NaN\n",
        "df_filtered = total_news_df.where(mask).dropna()\n",
        "# df_filtered = east_money_df.where(mask).dropna()\n",
        "\n",
        "# 使用split()函数提取上市公司名字，并将其作为一列添加到df_filtered中\n",
        "df_filtered['company_name'] = df_filtered['content'].str.extract('(' + regex + ')', expand=False)[0]"
      ]
    },
    {
      "cell_type": "code",
      "execution_count": null,
      "metadata": {
        "id": "aIpsoQKyWHbm"
      },
      "outputs": [],
      "source": [
        "df_filtered = df_filtered.reset_index(drop=True)\n",
        "if \"index\" in df_filtered.columns:\n",
        "  df_filtered.drop(\"index\",axis = 1, inplace = True)"
      ]
    },
    {
      "cell_type": "code",
      "execution_count": null,
      "metadata": {
        "colab": {
          "base_uri": "https://localhost:8080/"
        },
        "id": "bsPPLkjfDzto",
        "outputId": "73f8d3a1-4625-4154-caeb-e6d00bd7a1bd"
      },
      "outputs": [
        {
          "data": {
            "text/plain": [
              "(109601, 3)"
            ]
          },
          "execution_count": 16,
          "metadata": {},
          "output_type": "execute_result"
        }
      ],
      "source": [
        "df_filtered.shape"
      ]
    },
    {
      "cell_type": "code",
      "execution_count": null,
      "metadata": {
        "id": "CvlK4v1-7kht",
        "outputId": "14cf7293-efde-4aad-f94d-f3778ea1af9d"
      },
      "outputs": [
        {
          "data": {
            "text/plain": [
              "(106090, 3)"
            ]
          },
          "execution_count": 17,
          "metadata": {},
          "output_type": "execute_result"
        }
      ],
      "source": [
        "remove_name_lst = ['科技','未来','交投','洲际', '新动力', '曙光', '农产品']\n",
        "df_filtered = df_filtered[~df_filtered['company_name'].isin(remove_name_lst)].reset_index(drop=True)\n",
        "df_filtered.shape"
      ]
    },
    {
      "cell_type": "code",
      "execution_count": null,
      "metadata": {
        "id": "ISN122LLC5lb"
      },
      "outputs": [],
      "source": [
        "df_filtered.to_hdf(\"news_df.hdf\", key = \"news_data\")"
      ]
    },
    {
      "cell_type": "code",
      "execution_count": null,
      "metadata": {
        "id": "-_6ULgEr7khu"
      },
      "outputs": [],
      "source": [
        "seq_len = 10\n",
        "return_interval = 1\n",
        "freq = \"D\"\n",
        "\n",
        "key = f\"seq_len_{seq_len}_return_interval_{return_interval}_freq_{freq}\"\n",
        "tmp_df = pd.read_hdf(\"stock_news_sampled_df.hdf\", key = key)"
      ]
    },
    {
      "cell_type": "code",
      "execution_count": null,
      "metadata": {
        "id": "GzmuMtQp7khv",
        "outputId": "56fef0c3-8901-4247-cb62-36806f2b70bd"
      },
      "outputs": [
        {
          "data": {
            "text/plain": [
              "24356"
            ]
          },
          "execution_count": 23,
          "metadata": {},
          "output_type": "execute_result"
        }
      ],
      "source": [
        "int(0.8*len(tmp_df))"
      ]
    },
    {
      "cell_type": "code",
      "execution_count": null,
      "metadata": {
        "id": "sf4z1_Ue7khv",
        "outputId": "479ff7c8-1a3e-43e9-a20e-e14484543b14"
      },
      "outputs": [
        {
          "data": {
            "text/plain": [
              "datetime                                               20220520\n",
              "title                                       ST花王：法院裁定受理控股股东重整申请\n",
              "code                                                  603007.SH\n",
              "name                                                         花王\n",
              "stock_data    {'open': [3.48, 3.3, 3.34, 3.3, 3.36, 3.49, 3....\n",
              "Name: 24356, dtype: object"
            ]
          },
          "execution_count": 26,
          "metadata": {},
          "output_type": "execute_result"
        }
      ],
      "source": [
        "tmp_df.iloc[int(0.8*len(tmp_df)),:]"
      ]
    },
    {
      "cell_type": "code",
      "execution_count": null,
      "metadata": {
        "id": "0grvHtiw7khv",
        "outputId": "2ce7b5c0-06a8-4936-947d-3f9366232753"
      },
      "outputs": [
        {
          "data": {
            "text/html": [
              "<div>\n",
              "<style scoped>\n",
              "    .dataframe tbody tr th:only-of-type {\n",
              "        vertical-align: middle;\n",
              "    }\n",
              "\n",
              "    .dataframe tbody tr th {\n",
              "        vertical-align: top;\n",
              "    }\n",
              "\n",
              "    .dataframe thead th {\n",
              "        text-align: right;\n",
              "    }\n",
              "</style>\n",
              "<table border=\"1\" class=\"dataframe\">\n",
              "  <thead>\n",
              "    <tr style=\"text-align: right;\">\n",
              "      <th></th>\n",
              "      <th>datetime</th>\n",
              "      <th>title</th>\n",
              "      <th>code</th>\n",
              "      <th>name</th>\n",
              "      <th>stock_data</th>\n",
              "    </tr>\n",
              "  </thead>\n",
              "  <tbody>\n",
              "    <tr>\n",
              "      <th>0</th>\n",
              "      <td>20181025</td>\n",
              "      <td>科大讯飞：翻译机上线5个月销量超20万台</td>\n",
              "      <td>002230.SZ</td>\n",
              "      <td>科大讯飞</td>\n",
              "      <td>{'open': [22.5, 21.67, 22.94, 23.58, 21.8, 20....</td>\n",
              "    </tr>\n",
              "    <tr>\n",
              "      <th>1</th>\n",
              "      <td>20181025</td>\n",
              "      <td>意大利副总理迪·迈耶：相信意大利/德国国债利差将在未来几周收窄</td>\n",
              "      <td>600532.SH</td>\n",
              "      <td>未来</td>\n",
              "      <td>{'open': [4.59, 4.39, 4.55, 4.42, 4.43, 4.15, ...</td>\n",
              "    </tr>\n",
              "    <tr>\n",
              "      <th>2</th>\n",
              "      <td>20181025</td>\n",
              "      <td>光大证券：片仔癀产品未来提价空间大</td>\n",
              "      <td>601788.SH</td>\n",
              "      <td>光大证券</td>\n",
              "      <td>{'open': [9.82, 9.1, 9.15, 9.78, 8.68, 7.98, 8...</td>\n",
              "    </tr>\n",
              "    <tr>\n",
              "      <th>3</th>\n",
              "      <td>20181025</td>\n",
              "      <td>珠海中富股份拍卖尚无成交进展</td>\n",
              "      <td>000659.SZ</td>\n",
              "      <td>珠海中富</td>\n",
              "      <td>{'open': [3.11, 3.02, 3.16, 3.2, 3.0, 2.9, 2.8...</td>\n",
              "    </tr>\n",
              "    <tr>\n",
              "      <th>4</th>\n",
              "      <td>20181025</td>\n",
              "      <td>离开任志强的华远地产要凉凉？标普将评级修订为负面</td>\n",
              "      <td>600743.SH</td>\n",
              "      <td>华远地产</td>\n",
              "      <td>{'open': [2.13, 2.05, 2.04, 2.08, 2.0, 1.94, 2...</td>\n",
              "    </tr>\n",
              "    <tr>\n",
              "      <th>...</th>\n",
              "      <td>...</td>\n",
              "      <td>...</td>\n",
              "      <td>...</td>\n",
              "      <td>...</td>\n",
              "      <td>...</td>\n",
              "    </tr>\n",
              "    <tr>\n",
              "      <th>30440</th>\n",
              "      <td>20221230</td>\n",
              "      <td>游戏股开盘走强 惠程科技直线拉升涨停</td>\n",
              "      <td>002168.SZ</td>\n",
              "      <td>惠程科技</td>\n",
              "      <td>{'open': [3.88, 3.71, 3.78, 3.8, 3.86, 3.88, 3...</td>\n",
              "    </tr>\n",
              "    <tr>\n",
              "      <th>30441</th>\n",
              "      <td>20221230</td>\n",
              "      <td>金杯汽车：金杯车辆被裁定破产重整</td>\n",
              "      <td>600609.SH</td>\n",
              "      <td>金杯汽车</td>\n",
              "      <td>{'open': [4.18, 4.13, 4.15, 4.22, 4.23, 4.16, ...</td>\n",
              "    </tr>\n",
              "    <tr>\n",
              "      <th>30442</th>\n",
              "      <td>20221231</td>\n",
              "      <td>Nreal Air第10万台量产下线 领益智造承接其整机组装等业务</td>\n",
              "      <td>002600.SZ</td>\n",
              "      <td>领益智造</td>\n",
              "      <td>{'open': [4.56, 4.55, 4.52, 4.57, 4.56, 4.52, ...</td>\n",
              "    </tr>\n",
              "    <tr>\n",
              "      <th>30443</th>\n",
              "      <td>20221231</td>\n",
              "      <td>2022年元宇宙概念股年终汇总：福石控股领涨60.37% 歌尔股份领跌68.72%</td>\n",
              "      <td>300071.SZ</td>\n",
              "      <td>福石控股</td>\n",
              "      <td>{'open': [4.4, 3.69, 3.75, 3.8, 3.85, 3.91, 3....</td>\n",
              "    </tr>\n",
              "    <tr>\n",
              "      <th>30444</th>\n",
              "      <td>20221231</td>\n",
              "      <td>阿尔特汽车回应广州车展展台起火：电气短路引发火情 已正常开放展出</td>\n",
              "      <td>300825.SZ</td>\n",
              "      <td>阿尔特</td>\n",
              "      <td>{'open': [11.09, 11.0, 10.94, 11.22, 11.35, 10...</td>\n",
              "    </tr>\n",
              "  </tbody>\n",
              "</table>\n",
              "<p>30445 rows × 5 columns</p>\n",
              "</div>"
            ],
            "text/plain": [
              "       datetime                                      title       code  name  \\\n",
              "0      20181025                       科大讯飞：翻译机上线5个月销量超20万台  002230.SZ  科大讯飞   \n",
              "1      20181025            意大利副总理迪·迈耶：相信意大利/德国国债利差将在未来几周收窄  600532.SH    未来   \n",
              "2      20181025                          光大证券：片仔癀产品未来提价空间大  601788.SH  光大证券   \n",
              "3      20181025                             珠海中富股份拍卖尚无成交进展  000659.SZ  珠海中富   \n",
              "4      20181025                   离开任志强的华远地产要凉凉？标普将评级修订为负面  600743.SH  华远地产   \n",
              "...         ...                                        ...        ...   ...   \n",
              "30440  20221230                         游戏股开盘走强 惠程科技直线拉升涨停  002168.SZ  惠程科技   \n",
              "30441  20221230                           金杯汽车：金杯车辆被裁定破产重整  600609.SH  金杯汽车   \n",
              "30442  20221231          Nreal Air第10万台量产下线 领益智造承接其整机组装等业务  002600.SZ  领益智造   \n",
              "30443  20221231  2022年元宇宙概念股年终汇总：福石控股领涨60.37% 歌尔股份领跌68.72%  300071.SZ  福石控股   \n",
              "30444  20221231           阿尔特汽车回应广州车展展台起火：电气短路引发火情 已正常开放展出  300825.SZ   阿尔特   \n",
              "\n",
              "                                              stock_data  \n",
              "0      {'open': [22.5, 21.67, 22.94, 23.58, 21.8, 20....  \n",
              "1      {'open': [4.59, 4.39, 4.55, 4.42, 4.43, 4.15, ...  \n",
              "2      {'open': [9.82, 9.1, 9.15, 9.78, 8.68, 7.98, 8...  \n",
              "3      {'open': [3.11, 3.02, 3.16, 3.2, 3.0, 2.9, 2.8...  \n",
              "4      {'open': [2.13, 2.05, 2.04, 2.08, 2.0, 1.94, 2...  \n",
              "...                                                  ...  \n",
              "30440  {'open': [3.88, 3.71, 3.78, 3.8, 3.86, 3.88, 3...  \n",
              "30441  {'open': [4.18, 4.13, 4.15, 4.22, 4.23, 4.16, ...  \n",
              "30442  {'open': [4.56, 4.55, 4.52, 4.57, 4.56, 4.52, ...  \n",
              "30443  {'open': [4.4, 3.69, 3.75, 3.8, 3.85, 3.91, 3....  \n",
              "30444  {'open': [11.09, 11.0, 10.94, 11.22, 11.35, 10...  \n",
              "\n",
              "[30445 rows x 5 columns]"
            ]
          },
          "execution_count": 30,
          "metadata": {},
          "output_type": "execute_result"
        }
      ],
      "source": [
        "tmp_df"
      ]
    },
    {
      "cell_type": "markdown",
      "metadata": {
        "id": "12P3ZgvhtoFC"
      },
      "source": [
        "## 股票数据\n",
        "\n",
        "只需要首次运行即可，后续可以直接跳过\n",
        "\n",
        "输出文件路径：/content/drive/MyDrive/Thesis/Data/stock_data.hdf\n",
        "\n",
        "不同参数的数据根据不同的key进行导出：seq_len{seq_len}\\_return\\_interval_{return_interval}\\_freq_{freq}"
      ]
    },
    {
      "cell_type": "code",
      "execution_count": null,
      "metadata": {
        "colab": {
          "base_uri": "https://localhost:8080/",
          "height": 206
        },
        "id": "tgAZNSm4uvYB",
        "outputId": "1d543493-357e-4fde-af7a-ef33c68aafb5"
      },
      "outputs": [
        {
          "output_type": "execute_result",
          "data": {
            "text/plain": [
              "              datetime                              content company_name\n",
              "0  2018-10-25 21:55:02          龙虎榜解读：机构净买这3股 一游资4800万买南京证券         南京证券\n",
              "1  2018-10-25 21:22:13            伊力特前三季度净利增逾一成 养老保险基金现身股东榜          伊力特\n",
              "2  2018-10-25 21:00:28            今日北向资金流出近34亿元 贵州茅台净流出超9亿元         贵州茅台\n",
              "3  2018-10-25 20:54:07            南京证券、西南证券等券商股连日大涨 为各路游资炒作         南京证券\n",
              "4  2018-10-25 20:24:29  金科股份：融创中国合计持股超过实控人黄红云及其一致行动人持有的股份数量         金科股份"
            ],
            "text/html": [
              "\n",
              "  <div id=\"df-e10e2e90-9eae-4ed5-8f4e-5af132df647b\">\n",
              "    <div class=\"colab-df-container\">\n",
              "      <div>\n",
              "<style scoped>\n",
              "    .dataframe tbody tr th:only-of-type {\n",
              "        vertical-align: middle;\n",
              "    }\n",
              "\n",
              "    .dataframe tbody tr th {\n",
              "        vertical-align: top;\n",
              "    }\n",
              "\n",
              "    .dataframe thead th {\n",
              "        text-align: right;\n",
              "    }\n",
              "</style>\n",
              "<table border=\"1\" class=\"dataframe\">\n",
              "  <thead>\n",
              "    <tr style=\"text-align: right;\">\n",
              "      <th></th>\n",
              "      <th>datetime</th>\n",
              "      <th>content</th>\n",
              "      <th>company_name</th>\n",
              "    </tr>\n",
              "  </thead>\n",
              "  <tbody>\n",
              "    <tr>\n",
              "      <th>0</th>\n",
              "      <td>2018-10-25 21:55:02</td>\n",
              "      <td>龙虎榜解读：机构净买这3股 一游资4800万买南京证券</td>\n",
              "      <td>南京证券</td>\n",
              "    </tr>\n",
              "    <tr>\n",
              "      <th>1</th>\n",
              "      <td>2018-10-25 21:22:13</td>\n",
              "      <td>伊力特前三季度净利增逾一成 养老保险基金现身股东榜</td>\n",
              "      <td>伊力特</td>\n",
              "    </tr>\n",
              "    <tr>\n",
              "      <th>2</th>\n",
              "      <td>2018-10-25 21:00:28</td>\n",
              "      <td>今日北向资金流出近34亿元 贵州茅台净流出超9亿元</td>\n",
              "      <td>贵州茅台</td>\n",
              "    </tr>\n",
              "    <tr>\n",
              "      <th>3</th>\n",
              "      <td>2018-10-25 20:54:07</td>\n",
              "      <td>南京证券、西南证券等券商股连日大涨 为各路游资炒作</td>\n",
              "      <td>南京证券</td>\n",
              "    </tr>\n",
              "    <tr>\n",
              "      <th>4</th>\n",
              "      <td>2018-10-25 20:24:29</td>\n",
              "      <td>金科股份：融创中国合计持股超过实控人黄红云及其一致行动人持有的股份数量</td>\n",
              "      <td>金科股份</td>\n",
              "    </tr>\n",
              "  </tbody>\n",
              "</table>\n",
              "</div>\n",
              "      <button class=\"colab-df-convert\" onclick=\"convertToInteractive('df-e10e2e90-9eae-4ed5-8f4e-5af132df647b')\"\n",
              "              title=\"Convert this dataframe to an interactive table.\"\n",
              "              style=\"display:none;\">\n",
              "        \n",
              "  <svg xmlns=\"http://www.w3.org/2000/svg\" height=\"24px\"viewBox=\"0 0 24 24\"\n",
              "       width=\"24px\">\n",
              "    <path d=\"M0 0h24v24H0V0z\" fill=\"none\"/>\n",
              "    <path d=\"M18.56 5.44l.94 2.06.94-2.06 2.06-.94-2.06-.94-.94-2.06-.94 2.06-2.06.94zm-11 1L8.5 8.5l.94-2.06 2.06-.94-2.06-.94L8.5 2.5l-.94 2.06-2.06.94zm10 10l.94 2.06.94-2.06 2.06-.94-2.06-.94-.94-2.06-.94 2.06-2.06.94z\"/><path d=\"M17.41 7.96l-1.37-1.37c-.4-.4-.92-.59-1.43-.59-.52 0-1.04.2-1.43.59L10.3 9.45l-7.72 7.72c-.78.78-.78 2.05 0 2.83L4 21.41c.39.39.9.59 1.41.59.51 0 1.02-.2 1.41-.59l7.78-7.78 2.81-2.81c.8-.78.8-2.07 0-2.86zM5.41 20L4 18.59l7.72-7.72 1.47 1.35L5.41 20z\"/>\n",
              "  </svg>\n",
              "      </button>\n",
              "      \n",
              "  <style>\n",
              "    .colab-df-container {\n",
              "      display:flex;\n",
              "      flex-wrap:wrap;\n",
              "      gap: 12px;\n",
              "    }\n",
              "\n",
              "    .colab-df-convert {\n",
              "      background-color: #E8F0FE;\n",
              "      border: none;\n",
              "      border-radius: 50%;\n",
              "      cursor: pointer;\n",
              "      display: none;\n",
              "      fill: #1967D2;\n",
              "      height: 32px;\n",
              "      padding: 0 0 0 0;\n",
              "      width: 32px;\n",
              "    }\n",
              "\n",
              "    .colab-df-convert:hover {\n",
              "      background-color: #E2EBFA;\n",
              "      box-shadow: 0px 1px 2px rgba(60, 64, 67, 0.3), 0px 1px 3px 1px rgba(60, 64, 67, 0.15);\n",
              "      fill: #174EA6;\n",
              "    }\n",
              "\n",
              "    [theme=dark] .colab-df-convert {\n",
              "      background-color: #3B4455;\n",
              "      fill: #D2E3FC;\n",
              "    }\n",
              "\n",
              "    [theme=dark] .colab-df-convert:hover {\n",
              "      background-color: #434B5C;\n",
              "      box-shadow: 0px 1px 3px 1px rgba(0, 0, 0, 0.15);\n",
              "      filter: drop-shadow(0px 1px 2px rgba(0, 0, 0, 0.3));\n",
              "      fill: #FFFFFF;\n",
              "    }\n",
              "  </style>\n",
              "\n",
              "      <script>\n",
              "        const buttonEl =\n",
              "          document.querySelector('#df-e10e2e90-9eae-4ed5-8f4e-5af132df647b button.colab-df-convert');\n",
              "        buttonEl.style.display =\n",
              "          google.colab.kernel.accessAllowed ? 'block' : 'none';\n",
              "\n",
              "        async function convertToInteractive(key) {\n",
              "          const element = document.querySelector('#df-e10e2e90-9eae-4ed5-8f4e-5af132df647b');\n",
              "          const dataTable =\n",
              "            await google.colab.kernel.invokeFunction('convertToInteractive',\n",
              "                                                     [key], {});\n",
              "          if (!dataTable) return;\n",
              "\n",
              "          const docLinkHtml = 'Like what you see? Visit the ' +\n",
              "            '<a target=\"_blank\" href=https://colab.research.google.com/notebooks/data_table.ipynb>data table notebook</a>'\n",
              "            + ' to learn more about interactive tables.';\n",
              "          element.innerHTML = '';\n",
              "          dataTable['output_type'] = 'display_data';\n",
              "          await google.colab.output.renderOutput(dataTable, element);\n",
              "          const docLink = document.createElement('div');\n",
              "          docLink.innerHTML = docLinkHtml;\n",
              "          element.appendChild(docLink);\n",
              "        }\n",
              "      </script>\n",
              "    </div>\n",
              "  </div>\n",
              "  "
            ]
          },
          "metadata": {},
          "execution_count": 4
        }
      ],
      "source": [
        "news_df = pd.read_hdf(\"/content/drive/MyDrive/Thesis/Data/news_df.hdf\", key = \"news_data\")\n",
        "news_df.head()"
      ]
    },
    {
      "cell_type": "code",
      "execution_count": null,
      "metadata": {
        "id": "VGmpxYES7khw",
        "outputId": "bc0047c4-7193-4aea-9b14-1f87a432ee9a",
        "colab": {
          "base_uri": "https://localhost:8080/"
        }
      },
      "outputs": [
        {
          "output_type": "execute_result",
          "data": {
            "text/plain": [
              "(280627, 3)"
            ]
          },
          "metadata": {},
          "execution_count": 5
        }
      ],
      "source": [
        "news_df.shape"
      ]
    },
    {
      "cell_type": "markdown",
      "metadata": {
        "id": "AuEcOsoO7khx"
      },
      "source": [
        "超过15:00的即被归为第二天的新闻"
      ]
    },
    {
      "cell_type": "code",
      "execution_count": null,
      "metadata": {
        "id": "wQRzsPSa7khx"
      },
      "outputs": [],
      "source": [
        "import datetime\n",
        "news_df['Date'] = news_df['datetime'].apply(lambda x: datetime.datetime.strptime(x,\"%Y-%m-%d %H:%M:%S\"))\n",
        "news_df['Date'] = news_df['Date'].apply(lambda x: x+datetime.timedelta(days = 1) if x.time()>datetime.time(15, 0, 0)\\\n",
        "    else x)\n",
        "news_df['Date'] = news_df['Date'].apply(lambda x:x.strftime('%Y-%m-%d %H:%M:%S'))"
      ]
    },
    {
      "cell_type": "code",
      "execution_count": null,
      "metadata": {
        "id": "isGlpRDTu5aM",
        "outputId": "cba2458d-e6ae-4455-ebb0-807f4b05edb8",
        "colab": {
          "base_uri": "https://localhost:8080/",
          "height": 206
        }
      },
      "outputs": [
        {
          "output_type": "execute_result",
          "data": {
            "text/plain": [
              "              datetime                              content company_name  \\\n",
              "0  2018-10-25 21:55:02          龙虎榜解读：机构净买这3股 一游资4800万买南京证券         南京证券   \n",
              "1  2018-10-25 21:22:13            伊力特前三季度净利增逾一成 养老保险基金现身股东榜          伊力特   \n",
              "2  2018-10-25 21:00:28            今日北向资金流出近34亿元 贵州茅台净流出超9亿元         贵州茅台   \n",
              "3  2018-10-25 20:54:07            南京证券、西南证券等券商股连日大涨 为各路游资炒作         南京证券   \n",
              "4  2018-10-25 20:24:29  金科股份：融创中国合计持股超过实控人黄红云及其一致行动人持有的股份数量         金科股份   \n",
              "\n",
              "       Date  \n",
              "0  20181026  \n",
              "1  20181026  \n",
              "2  20181026  \n",
              "3  20181026  \n",
              "4  20181026  "
            ],
            "text/html": [
              "\n",
              "  <div id=\"df-8c8a2472-3b59-4586-9ae0-bf2e3ca3ffb9\">\n",
              "    <div class=\"colab-df-container\">\n",
              "      <div>\n",
              "<style scoped>\n",
              "    .dataframe tbody tr th:only-of-type {\n",
              "        vertical-align: middle;\n",
              "    }\n",
              "\n",
              "    .dataframe tbody tr th {\n",
              "        vertical-align: top;\n",
              "    }\n",
              "\n",
              "    .dataframe thead th {\n",
              "        text-align: right;\n",
              "    }\n",
              "</style>\n",
              "<table border=\"1\" class=\"dataframe\">\n",
              "  <thead>\n",
              "    <tr style=\"text-align: right;\">\n",
              "      <th></th>\n",
              "      <th>datetime</th>\n",
              "      <th>content</th>\n",
              "      <th>company_name</th>\n",
              "      <th>Date</th>\n",
              "    </tr>\n",
              "  </thead>\n",
              "  <tbody>\n",
              "    <tr>\n",
              "      <th>0</th>\n",
              "      <td>2018-10-25 21:55:02</td>\n",
              "      <td>龙虎榜解读：机构净买这3股 一游资4800万买南京证券</td>\n",
              "      <td>南京证券</td>\n",
              "      <td>20181026</td>\n",
              "    </tr>\n",
              "    <tr>\n",
              "      <th>1</th>\n",
              "      <td>2018-10-25 21:22:13</td>\n",
              "      <td>伊力特前三季度净利增逾一成 养老保险基金现身股东榜</td>\n",
              "      <td>伊力特</td>\n",
              "      <td>20181026</td>\n",
              "    </tr>\n",
              "    <tr>\n",
              "      <th>2</th>\n",
              "      <td>2018-10-25 21:00:28</td>\n",
              "      <td>今日北向资金流出近34亿元 贵州茅台净流出超9亿元</td>\n",
              "      <td>贵州茅台</td>\n",
              "      <td>20181026</td>\n",
              "    </tr>\n",
              "    <tr>\n",
              "      <th>3</th>\n",
              "      <td>2018-10-25 20:54:07</td>\n",
              "      <td>南京证券、西南证券等券商股连日大涨 为各路游资炒作</td>\n",
              "      <td>南京证券</td>\n",
              "      <td>20181026</td>\n",
              "    </tr>\n",
              "    <tr>\n",
              "      <th>4</th>\n",
              "      <td>2018-10-25 20:24:29</td>\n",
              "      <td>金科股份：融创中国合计持股超过实控人黄红云及其一致行动人持有的股份数量</td>\n",
              "      <td>金科股份</td>\n",
              "      <td>20181026</td>\n",
              "    </tr>\n",
              "  </tbody>\n",
              "</table>\n",
              "</div>\n",
              "      <button class=\"colab-df-convert\" onclick=\"convertToInteractive('df-8c8a2472-3b59-4586-9ae0-bf2e3ca3ffb9')\"\n",
              "              title=\"Convert this dataframe to an interactive table.\"\n",
              "              style=\"display:none;\">\n",
              "        \n",
              "  <svg xmlns=\"http://www.w3.org/2000/svg\" height=\"24px\"viewBox=\"0 0 24 24\"\n",
              "       width=\"24px\">\n",
              "    <path d=\"M0 0h24v24H0V0z\" fill=\"none\"/>\n",
              "    <path d=\"M18.56 5.44l.94 2.06.94-2.06 2.06-.94-2.06-.94-.94-2.06-.94 2.06-2.06.94zm-11 1L8.5 8.5l.94-2.06 2.06-.94-2.06-.94L8.5 2.5l-.94 2.06-2.06.94zm10 10l.94 2.06.94-2.06 2.06-.94-2.06-.94-.94-2.06-.94 2.06-2.06.94z\"/><path d=\"M17.41 7.96l-1.37-1.37c-.4-.4-.92-.59-1.43-.59-.52 0-1.04.2-1.43.59L10.3 9.45l-7.72 7.72c-.78.78-.78 2.05 0 2.83L4 21.41c.39.39.9.59 1.41.59.51 0 1.02-.2 1.41-.59l7.78-7.78 2.81-2.81c.8-.78.8-2.07 0-2.86zM5.41 20L4 18.59l7.72-7.72 1.47 1.35L5.41 20z\"/>\n",
              "  </svg>\n",
              "      </button>\n",
              "      \n",
              "  <style>\n",
              "    .colab-df-container {\n",
              "      display:flex;\n",
              "      flex-wrap:wrap;\n",
              "      gap: 12px;\n",
              "    }\n",
              "\n",
              "    .colab-df-convert {\n",
              "      background-color: #E8F0FE;\n",
              "      border: none;\n",
              "      border-radius: 50%;\n",
              "      cursor: pointer;\n",
              "      display: none;\n",
              "      fill: #1967D2;\n",
              "      height: 32px;\n",
              "      padding: 0 0 0 0;\n",
              "      width: 32px;\n",
              "    }\n",
              "\n",
              "    .colab-df-convert:hover {\n",
              "      background-color: #E2EBFA;\n",
              "      box-shadow: 0px 1px 2px rgba(60, 64, 67, 0.3), 0px 1px 3px 1px rgba(60, 64, 67, 0.15);\n",
              "      fill: #174EA6;\n",
              "    }\n",
              "\n",
              "    [theme=dark] .colab-df-convert {\n",
              "      background-color: #3B4455;\n",
              "      fill: #D2E3FC;\n",
              "    }\n",
              "\n",
              "    [theme=dark] .colab-df-convert:hover {\n",
              "      background-color: #434B5C;\n",
              "      box-shadow: 0px 1px 3px 1px rgba(0, 0, 0, 0.15);\n",
              "      filter: drop-shadow(0px 1px 2px rgba(0, 0, 0, 0.3));\n",
              "      fill: #FFFFFF;\n",
              "    }\n",
              "  </style>\n",
              "\n",
              "      <script>\n",
              "        const buttonEl =\n",
              "          document.querySelector('#df-8c8a2472-3b59-4586-9ae0-bf2e3ca3ffb9 button.colab-df-convert');\n",
              "        buttonEl.style.display =\n",
              "          google.colab.kernel.accessAllowed ? 'block' : 'none';\n",
              "\n",
              "        async function convertToInteractive(key) {\n",
              "          const element = document.querySelector('#df-8c8a2472-3b59-4586-9ae0-bf2e3ca3ffb9');\n",
              "          const dataTable =\n",
              "            await google.colab.kernel.invokeFunction('convertToInteractive',\n",
              "                                                     [key], {});\n",
              "          if (!dataTable) return;\n",
              "\n",
              "          const docLinkHtml = 'Like what you see? Visit the ' +\n",
              "            '<a target=\"_blank\" href=https://colab.research.google.com/notebooks/data_table.ipynb>data table notebook</a>'\n",
              "            + ' to learn more about interactive tables.';\n",
              "          element.innerHTML = '';\n",
              "          dataTable['output_type'] = 'display_data';\n",
              "          await google.colab.output.renderOutput(dataTable, element);\n",
              "          const docLink = document.createElement('div');\n",
              "          docLink.innerHTML = docLinkHtml;\n",
              "          element.appendChild(docLink);\n",
              "        }\n",
              "      </script>\n",
              "    </div>\n",
              "  </div>\n",
              "  "
            ]
          },
          "metadata": {},
          "execution_count": 7
        }
      ],
      "source": [
        "news_df['Date'] = news_df['Date'].apply(lambda x: x.split(\" \")[0]) # 去除datetime中的时间部分\n",
        "news_df['Date'] = news_df['Date'].str.replace(\"-\",\"\")\n",
        "news_df.head()"
      ]
    },
    {
      "cell_type": "code",
      "source": [
        "pro = ts.pro_api()\n",
        "data = pro.stock_basic(exchange='', list_status='L', fields='ts_code,symbol,name', market = \"主板\")\n",
        "\n",
        "import re\n",
        "\n",
        "# 使用apply方法和re.sub函数剔除英文字母和数字\n",
        "pattern = re.compile(r'[^\\u4e00-\\u9fa5]')\n",
        "data['name'] = data['name'].apply(lambda x: re.sub(pattern, '', x))"
      ],
      "metadata": {
        "id": "k1yS7JlTIvrb"
      },
      "execution_count": null,
      "outputs": []
    },
    {
      "cell_type": "code",
      "source": [
        "data.columns = ['ts_code', 'symbol', 'company_name']"
      ],
      "metadata": {
        "id": "32wLkcstI7Bl"
      },
      "execution_count": null,
      "outputs": []
    },
    {
      "cell_type": "code",
      "execution_count": null,
      "metadata": {
        "id": "IZUMtWJO7khy"
      },
      "outputs": [],
      "source": [
        "news_df = pd.merge(news_df, data, on = 'company_name')"
      ]
    },
    {
      "cell_type": "code",
      "execution_count": null,
      "metadata": {
        "id": "fmL-_-1n7khy",
        "outputId": "3f4cc3c8-2059-445b-942e-3659afc41629",
        "colab": {
          "base_uri": "https://localhost:8080/",
          "height": 206
        }
      },
      "outputs": [
        {
          "output_type": "execute_result",
          "data": {
            "text/plain": [
              "              datetime                      content company_name      Date  \\\n",
              "0  2018-10-25 21:55:02  龙虎榜解读：机构净买这3股 一游资4800万买南京证券         南京证券  20181026   \n",
              "1  2018-10-25 20:54:07    南京证券、西南证券等券商股连日大涨 为各路游资炒作         南京证券  20181026   \n",
              "2  2019-01-06 21:27:25            南京证券：A股将迎来较好战略布局期         南京证券  20190107   \n",
              "3  2019-06-13 09:26:37            南京证券今日巨量解禁 开盘大跌9%         南京证券  20190613   \n",
              "4  2019-06-17 07:49:58    南京证券上市一年：经纪业务靠天吃饭 投行业务待提高         南京证券  20190617   \n",
              "\n",
              "     ts_code  symbol  \n",
              "0  601990.SH  601990  \n",
              "1  601990.SH  601990  \n",
              "2  601990.SH  601990  \n",
              "3  601990.SH  601990  \n",
              "4  601990.SH  601990  "
            ],
            "text/html": [
              "\n",
              "  <div id=\"df-69459b6c-0093-4764-9863-e93ec09f8e5e\">\n",
              "    <div class=\"colab-df-container\">\n",
              "      <div>\n",
              "<style scoped>\n",
              "    .dataframe tbody tr th:only-of-type {\n",
              "        vertical-align: middle;\n",
              "    }\n",
              "\n",
              "    .dataframe tbody tr th {\n",
              "        vertical-align: top;\n",
              "    }\n",
              "\n",
              "    .dataframe thead th {\n",
              "        text-align: right;\n",
              "    }\n",
              "</style>\n",
              "<table border=\"1\" class=\"dataframe\">\n",
              "  <thead>\n",
              "    <tr style=\"text-align: right;\">\n",
              "      <th></th>\n",
              "      <th>datetime</th>\n",
              "      <th>content</th>\n",
              "      <th>company_name</th>\n",
              "      <th>Date</th>\n",
              "      <th>ts_code</th>\n",
              "      <th>symbol</th>\n",
              "    </tr>\n",
              "  </thead>\n",
              "  <tbody>\n",
              "    <tr>\n",
              "      <th>0</th>\n",
              "      <td>2018-10-25 21:55:02</td>\n",
              "      <td>龙虎榜解读：机构净买这3股 一游资4800万买南京证券</td>\n",
              "      <td>南京证券</td>\n",
              "      <td>20181026</td>\n",
              "      <td>601990.SH</td>\n",
              "      <td>601990</td>\n",
              "    </tr>\n",
              "    <tr>\n",
              "      <th>1</th>\n",
              "      <td>2018-10-25 20:54:07</td>\n",
              "      <td>南京证券、西南证券等券商股连日大涨 为各路游资炒作</td>\n",
              "      <td>南京证券</td>\n",
              "      <td>20181026</td>\n",
              "      <td>601990.SH</td>\n",
              "      <td>601990</td>\n",
              "    </tr>\n",
              "    <tr>\n",
              "      <th>2</th>\n",
              "      <td>2019-01-06 21:27:25</td>\n",
              "      <td>南京证券：A股将迎来较好战略布局期</td>\n",
              "      <td>南京证券</td>\n",
              "      <td>20190107</td>\n",
              "      <td>601990.SH</td>\n",
              "      <td>601990</td>\n",
              "    </tr>\n",
              "    <tr>\n",
              "      <th>3</th>\n",
              "      <td>2019-06-13 09:26:37</td>\n",
              "      <td>南京证券今日巨量解禁 开盘大跌9%</td>\n",
              "      <td>南京证券</td>\n",
              "      <td>20190613</td>\n",
              "      <td>601990.SH</td>\n",
              "      <td>601990</td>\n",
              "    </tr>\n",
              "    <tr>\n",
              "      <th>4</th>\n",
              "      <td>2019-06-17 07:49:58</td>\n",
              "      <td>南京证券上市一年：经纪业务靠天吃饭 投行业务待提高</td>\n",
              "      <td>南京证券</td>\n",
              "      <td>20190617</td>\n",
              "      <td>601990.SH</td>\n",
              "      <td>601990</td>\n",
              "    </tr>\n",
              "  </tbody>\n",
              "</table>\n",
              "</div>\n",
              "      <button class=\"colab-df-convert\" onclick=\"convertToInteractive('df-69459b6c-0093-4764-9863-e93ec09f8e5e')\"\n",
              "              title=\"Convert this dataframe to an interactive table.\"\n",
              "              style=\"display:none;\">\n",
              "        \n",
              "  <svg xmlns=\"http://www.w3.org/2000/svg\" height=\"24px\"viewBox=\"0 0 24 24\"\n",
              "       width=\"24px\">\n",
              "    <path d=\"M0 0h24v24H0V0z\" fill=\"none\"/>\n",
              "    <path d=\"M18.56 5.44l.94 2.06.94-2.06 2.06-.94-2.06-.94-.94-2.06-.94 2.06-2.06.94zm-11 1L8.5 8.5l.94-2.06 2.06-.94-2.06-.94L8.5 2.5l-.94 2.06-2.06.94zm10 10l.94 2.06.94-2.06 2.06-.94-2.06-.94-.94-2.06-.94 2.06-2.06.94z\"/><path d=\"M17.41 7.96l-1.37-1.37c-.4-.4-.92-.59-1.43-.59-.52 0-1.04.2-1.43.59L10.3 9.45l-7.72 7.72c-.78.78-.78 2.05 0 2.83L4 21.41c.39.39.9.59 1.41.59.51 0 1.02-.2 1.41-.59l7.78-7.78 2.81-2.81c.8-.78.8-2.07 0-2.86zM5.41 20L4 18.59l7.72-7.72 1.47 1.35L5.41 20z\"/>\n",
              "  </svg>\n",
              "      </button>\n",
              "      \n",
              "  <style>\n",
              "    .colab-df-container {\n",
              "      display:flex;\n",
              "      flex-wrap:wrap;\n",
              "      gap: 12px;\n",
              "    }\n",
              "\n",
              "    .colab-df-convert {\n",
              "      background-color: #E8F0FE;\n",
              "      border: none;\n",
              "      border-radius: 50%;\n",
              "      cursor: pointer;\n",
              "      display: none;\n",
              "      fill: #1967D2;\n",
              "      height: 32px;\n",
              "      padding: 0 0 0 0;\n",
              "      width: 32px;\n",
              "    }\n",
              "\n",
              "    .colab-df-convert:hover {\n",
              "      background-color: #E2EBFA;\n",
              "      box-shadow: 0px 1px 2px rgba(60, 64, 67, 0.3), 0px 1px 3px 1px rgba(60, 64, 67, 0.15);\n",
              "      fill: #174EA6;\n",
              "    }\n",
              "\n",
              "    [theme=dark] .colab-df-convert {\n",
              "      background-color: #3B4455;\n",
              "      fill: #D2E3FC;\n",
              "    }\n",
              "\n",
              "    [theme=dark] .colab-df-convert:hover {\n",
              "      background-color: #434B5C;\n",
              "      box-shadow: 0px 1px 3px 1px rgba(0, 0, 0, 0.15);\n",
              "      filter: drop-shadow(0px 1px 2px rgba(0, 0, 0, 0.3));\n",
              "      fill: #FFFFFF;\n",
              "    }\n",
              "  </style>\n",
              "\n",
              "      <script>\n",
              "        const buttonEl =\n",
              "          document.querySelector('#df-69459b6c-0093-4764-9863-e93ec09f8e5e button.colab-df-convert');\n",
              "        buttonEl.style.display =\n",
              "          google.colab.kernel.accessAllowed ? 'block' : 'none';\n",
              "\n",
              "        async function convertToInteractive(key) {\n",
              "          const element = document.querySelector('#df-69459b6c-0093-4764-9863-e93ec09f8e5e');\n",
              "          const dataTable =\n",
              "            await google.colab.kernel.invokeFunction('convertToInteractive',\n",
              "                                                     [key], {});\n",
              "          if (!dataTable) return;\n",
              "\n",
              "          const docLinkHtml = 'Like what you see? Visit the ' +\n",
              "            '<a target=\"_blank\" href=https://colab.research.google.com/notebooks/data_table.ipynb>data table notebook</a>'\n",
              "            + ' to learn more about interactive tables.';\n",
              "          element.innerHTML = '';\n",
              "          dataTable['output_type'] = 'display_data';\n",
              "          await google.colab.output.renderOutput(dataTable, element);\n",
              "          const docLink = document.createElement('div');\n",
              "          docLink.innerHTML = docLinkHtml;\n",
              "          element.appendChild(docLink);\n",
              "        }\n",
              "      </script>\n",
              "    </div>\n",
              "  </div>\n",
              "  "
            ]
          },
          "metadata": {},
          "execution_count": 11
        }
      ],
      "source": [
        "news_df.head()"
      ]
    },
    {
      "cell_type": "code",
      "source": [
        "del data"
      ],
      "metadata": {
        "id": "cK9zFE0rWEH4"
      },
      "execution_count": null,
      "outputs": []
    },
    {
      "cell_type": "markdown",
      "metadata": {
        "id": "Cu0tUgqwtQe7"
      },
      "source": [
        "使用tushare接口提取股票在对应及新闻发生后的日线走势数据。\n",
        "\n",
        "<!-- lookback为回溯期，即使用lookback天的数据进行预测 -->\n",
        "\n",
        "seq_len：数据的长度，即使用seq_len天的数据进行预测\n",
        "\n",
        "return_interval：收益率的计算区间长度\n",
        "\n",
        "freq：数据频率"
      ]
    },
    {
      "cell_type": "code",
      "execution_count": null,
      "metadata": {
        "id": "2QJ7Fa46uYxr",
        "outputId": "26fc8a75-8660-4b4e-c460-8c237143e745",
        "colab": {
          "base_uri": "https://localhost:8080/",
          "height": 206
        }
      },
      "outputs": [
        {
          "output_type": "execute_result",
          "data": {
            "text/plain": [
              "  exchange  cal_date  is_open pretrade_date\n",
              "0      SSE  20230401        0      20230331\n",
              "1      SSE  20230331        1      20230330\n",
              "2      SSE  20230330        1      20230329\n",
              "3      SSE  20230329        1      20230328\n",
              "4      SSE  20230328        1      20230327"
            ],
            "text/html": [
              "\n",
              "  <div id=\"df-2b9da028-aaf2-42aa-bd92-e7973168cc52\">\n",
              "    <div class=\"colab-df-container\">\n",
              "      <div>\n",
              "<style scoped>\n",
              "    .dataframe tbody tr th:only-of-type {\n",
              "        vertical-align: middle;\n",
              "    }\n",
              "\n",
              "    .dataframe tbody tr th {\n",
              "        vertical-align: top;\n",
              "    }\n",
              "\n",
              "    .dataframe thead th {\n",
              "        text-align: right;\n",
              "    }\n",
              "</style>\n",
              "<table border=\"1\" class=\"dataframe\">\n",
              "  <thead>\n",
              "    <tr style=\"text-align: right;\">\n",
              "      <th></th>\n",
              "      <th>exchange</th>\n",
              "      <th>cal_date</th>\n",
              "      <th>is_open</th>\n",
              "      <th>pretrade_date</th>\n",
              "    </tr>\n",
              "  </thead>\n",
              "  <tbody>\n",
              "    <tr>\n",
              "      <th>0</th>\n",
              "      <td>SSE</td>\n",
              "      <td>20230401</td>\n",
              "      <td>0</td>\n",
              "      <td>20230331</td>\n",
              "    </tr>\n",
              "    <tr>\n",
              "      <th>1</th>\n",
              "      <td>SSE</td>\n",
              "      <td>20230331</td>\n",
              "      <td>1</td>\n",
              "      <td>20230330</td>\n",
              "    </tr>\n",
              "    <tr>\n",
              "      <th>2</th>\n",
              "      <td>SSE</td>\n",
              "      <td>20230330</td>\n",
              "      <td>1</td>\n",
              "      <td>20230329</td>\n",
              "    </tr>\n",
              "    <tr>\n",
              "      <th>3</th>\n",
              "      <td>SSE</td>\n",
              "      <td>20230329</td>\n",
              "      <td>1</td>\n",
              "      <td>20230328</td>\n",
              "    </tr>\n",
              "    <tr>\n",
              "      <th>4</th>\n",
              "      <td>SSE</td>\n",
              "      <td>20230328</td>\n",
              "      <td>1</td>\n",
              "      <td>20230327</td>\n",
              "    </tr>\n",
              "  </tbody>\n",
              "</table>\n",
              "</div>\n",
              "      <button class=\"colab-df-convert\" onclick=\"convertToInteractive('df-2b9da028-aaf2-42aa-bd92-e7973168cc52')\"\n",
              "              title=\"Convert this dataframe to an interactive table.\"\n",
              "              style=\"display:none;\">\n",
              "        \n",
              "  <svg xmlns=\"http://www.w3.org/2000/svg\" height=\"24px\"viewBox=\"0 0 24 24\"\n",
              "       width=\"24px\">\n",
              "    <path d=\"M0 0h24v24H0V0z\" fill=\"none\"/>\n",
              "    <path d=\"M18.56 5.44l.94 2.06.94-2.06 2.06-.94-2.06-.94-.94-2.06-.94 2.06-2.06.94zm-11 1L8.5 8.5l.94-2.06 2.06-.94-2.06-.94L8.5 2.5l-.94 2.06-2.06.94zm10 10l.94 2.06.94-2.06 2.06-.94-2.06-.94-.94-2.06-.94 2.06-2.06.94z\"/><path d=\"M17.41 7.96l-1.37-1.37c-.4-.4-.92-.59-1.43-.59-.52 0-1.04.2-1.43.59L10.3 9.45l-7.72 7.72c-.78.78-.78 2.05 0 2.83L4 21.41c.39.39.9.59 1.41.59.51 0 1.02-.2 1.41-.59l7.78-7.78 2.81-2.81c.8-.78.8-2.07 0-2.86zM5.41 20L4 18.59l7.72-7.72 1.47 1.35L5.41 20z\"/>\n",
              "  </svg>\n",
              "      </button>\n",
              "      \n",
              "  <style>\n",
              "    .colab-df-container {\n",
              "      display:flex;\n",
              "      flex-wrap:wrap;\n",
              "      gap: 12px;\n",
              "    }\n",
              "\n",
              "    .colab-df-convert {\n",
              "      background-color: #E8F0FE;\n",
              "      border: none;\n",
              "      border-radius: 50%;\n",
              "      cursor: pointer;\n",
              "      display: none;\n",
              "      fill: #1967D2;\n",
              "      height: 32px;\n",
              "      padding: 0 0 0 0;\n",
              "      width: 32px;\n",
              "    }\n",
              "\n",
              "    .colab-df-convert:hover {\n",
              "      background-color: #E2EBFA;\n",
              "      box-shadow: 0px 1px 2px rgba(60, 64, 67, 0.3), 0px 1px 3px 1px rgba(60, 64, 67, 0.15);\n",
              "      fill: #174EA6;\n",
              "    }\n",
              "\n",
              "    [theme=dark] .colab-df-convert {\n",
              "      background-color: #3B4455;\n",
              "      fill: #D2E3FC;\n",
              "    }\n",
              "\n",
              "    [theme=dark] .colab-df-convert:hover {\n",
              "      background-color: #434B5C;\n",
              "      box-shadow: 0px 1px 3px 1px rgba(0, 0, 0, 0.15);\n",
              "      filter: drop-shadow(0px 1px 2px rgba(0, 0, 0, 0.3));\n",
              "      fill: #FFFFFF;\n",
              "    }\n",
              "  </style>\n",
              "\n",
              "      <script>\n",
              "        const buttonEl =\n",
              "          document.querySelector('#df-2b9da028-aaf2-42aa-bd92-e7973168cc52 button.colab-df-convert');\n",
              "        buttonEl.style.display =\n",
              "          google.colab.kernel.accessAllowed ? 'block' : 'none';\n",
              "\n",
              "        async function convertToInteractive(key) {\n",
              "          const element = document.querySelector('#df-2b9da028-aaf2-42aa-bd92-e7973168cc52');\n",
              "          const dataTable =\n",
              "            await google.colab.kernel.invokeFunction('convertToInteractive',\n",
              "                                                     [key], {});\n",
              "          if (!dataTable) return;\n",
              "\n",
              "          const docLinkHtml = 'Like what you see? Visit the ' +\n",
              "            '<a target=\"_blank\" href=https://colab.research.google.com/notebooks/data_table.ipynb>data table notebook</a>'\n",
              "            + ' to learn more about interactive tables.';\n",
              "          element.innerHTML = '';\n",
              "          dataTable['output_type'] = 'display_data';\n",
              "          await google.colab.output.renderOutput(dataTable, element);\n",
              "          const docLink = document.createElement('div');\n",
              "          docLink.innerHTML = docLinkHtml;\n",
              "          element.appendChild(docLink);\n",
              "        }\n",
              "      </script>\n",
              "    </div>\n",
              "  </div>\n",
              "  "
            ]
          },
          "metadata": {},
          "execution_count": 12
        }
      ],
      "source": [
        "pro = ts.pro_api()\n",
        "TradeDay_df = pro.trade_cal(exchange='SSE', start_date='20180101', end_date='20230401')\n",
        "TradeDay_df.head()"
      ]
    },
    {
      "cell_type": "code",
      "source": [
        "ttl_tradeday_lst = TradeDay_df.loc[TradeDay_df['is_open']==1,'cal_date'].to_list()"
      ],
      "metadata": {
        "id": "1Xv4wog6NUfx"
      },
      "execution_count": null,
      "outputs": []
    },
    {
      "cell_type": "code",
      "execution_count": null,
      "metadata": {
        "id": "9dbft69-B7v_"
      },
      "outputs": [],
      "source": [
        "import time\n",
        "\n",
        "seq_len = 10\n",
        "return_interval = 1\n",
        "freq = \"D\"\n",
        "ma_lst = [5, 10, 22]\n",
        "\n",
        "def get_stock_data_factor(# date, stock_code,\n",
        "              item,\n",
        "              freq=freq, seq_len = seq_len, ma_lst = ma_lst,\n",
        "              return_interval = return_interval):\n",
        "  '''\n",
        "  带有基础因子的数据\n",
        "  date：新闻发布的日期\n",
        "  freq：数据频率\n",
        "  '''\n",
        "  # date = item[1]\n",
        "  # stock_code = item[3]\n",
        "  idx, row = item\n",
        "\n",
        "  date = row['Date']\n",
        "  stock_code = row['ts_code']\n",
        "  news_date = date\n",
        "\n",
        "  # 找到日期前的第一个交易日\n",
        "  while not TradeDay_df.loc[TradeDay_df['cal_date']==date,\"is_open\"].values[0]:\n",
        "    index = TradeDay_df.loc[TradeDay_df['cal_date']==date,\"is_open\"].index+1\n",
        "    date = TradeDay_df.loc[index,\"cal_date\"].values[0]\n",
        "\n",
        "  # flag = ttl_tradeday_lst.index(date)\n",
        "  # tradeday_lst = ttl_tradeday_lst[flag:(flag+seq_len+return_interval+1)]\n",
        "  # ma_date_lst = ttl_tradeday_lst[flag:(flag+seq_len+return_interval+max(ma_lst)+1)]\n",
        "\n",
        "  # 确定交易日范围\n",
        "  tradeday_lst = [date]\n",
        "  tradeday_filter = (TradeDay_df['pretrade_date']==date) & (TradeDay_df['is_open']==1)\n",
        "  tradeday_lst.append(TradeDay_df['cal_date'][tradeday_filter].values[0]) # 新闻发生后的一个交易日作为计算return的节点\n",
        "\n",
        "  while len(tradeday_lst)<(seq_len+return_interval):\n",
        "    predate = TradeDay_df.loc[TradeDay_df['cal_date']==date,\"pretrade_date\"].values[0] # 找到date的前一个交易日\n",
        "    tradeday_lst.insert(0,predate)\n",
        "    date = predate\n",
        "\n",
        "  # 设置ma_date_lst以计算均线\n",
        "  ma_date_lst = tradeday_lst.copy()\n",
        "  while len(ma_date_lst)<(seq_len+return_interval+max(ma_lst)):\n",
        "    predate = TradeDay_df.loc[TradeDay_df['cal_date']==date,\"pretrade_date\"].values[0] # 找到date的前一个交易日\n",
        "    ma_date_lst.insert(0,predate)\n",
        "    date = predate\n",
        "  start_date, end_date = ma_date_lst[0], ma_date_lst[-1]\n",
        "\n",
        "  # 调用API获取数据\n",
        "  time.sleep(0.13)\n",
        "  stock_df = ts.pro_bar(ts_code=stock_code, start_date=start_date,\n",
        "              end_date=end_date, factors=['tor', 'vr'], ma = ma_lst)\n",
        "  # stock_df = stock_df[stock_df['trade_date'].isin(tradeday_lst)].reset_index(drop=True)\n",
        "\n",
        "  # if idx%100==0:\n",
        "  #   print(\"-\"*20+f\"{100*idx/len(news_df):.3f}% completed\"+\"-\"*20)\n",
        "\n",
        "  # 将所需要的序列数据提取出来\n",
        "  # pct_chg作为Label只需要最后一个值；其余作为序列数据截断至倒数第二个\n",
        "  try:\n",
        "    res_dict = stock_df.to_dict(orient=\"list\")\n",
        "    return res_dict\n",
        "  except:\n",
        "    print(f\"Error occured on on {news_date} for {stock_code}\")\n",
        "    return None\n"
      ]
    },
    {
      "cell_type": "code",
      "source": [
        "from tqdm.notebook import tqdm\n",
        "from multiprocessing import Pool\n",
        "from functools import partial\n",
        "\n",
        "\n",
        "with Pool(8) as pool:\n",
        "  result = list(tqdm(pool.imap(get_stock_data_factor, news_df.iterrows()),total=len(news_df)))\n",
        "\n",
        "# for pick_date in tqdm(news_df['Date'].unique()):\n",
        "#   tmp_df = news_df[news_df['Date']==pick_date].reset_index()\n",
        "#   with Pool(8) as pool:\n",
        "#     result = pool.map(get_stock_data_factor, tmp_df.iterrows())\n",
        "#   ttl_result.extend(result)"
      ],
      "metadata": {
        "colab": {
          "base_uri": "https://localhost:8080/",
          "height": 49,
          "referenced_widgets": [
            "1a6a45b9bc5d46478a0c806ccf421a10",
            "570ee85552ad4fdcb0f65d12697ff091",
            "1a4c531b96884032b0ef7be0f4f44dd9",
            "c3b5399ff9d849bbb0ce1bb35cf4eb75",
            "59c6998188a54e4f91dcaffdd15fc87b",
            "36616746d917480b948e11b431d2ec4b",
            "92287d65b2e443b5a5a99541aa44b81d",
            "3b12a750c51d445ab8fa998cc8ac7aa8",
            "507cd21a5fe2411389d0b6a2e8c19b33",
            "dba11974bc90467f8bba87880940e4eb",
            "670cb9baca8d4959917ad492e0c018e3"
          ]
        },
        "id": "kzOFNvkaU67E",
        "outputId": "e652e3ea-cfac-43b2-e4f3-ed67cb49755c"
      },
      "execution_count": null,
      "outputs": [
        {
          "data": {
            "application/vnd.jupyter.widget-view+json": {
              "model_id": "1a6a45b9bc5d46478a0c806ccf421a10",
              "version_major": 2,
              "version_minor": 0
            },
            "text/plain": [
              "  0%|          | 0/280166 [00:00<?, ?it/s]"
            ]
          },
          "metadata": {},
          "output_type": "display_data"
        }
      ]
    },
    {
      "cell_type": "code",
      "source": [
        "len(result)"
      ],
      "metadata": {
        "colab": {
          "base_uri": "https://localhost:8080/"
        },
        "id": "PeFLd3MSDS3l",
        "outputId": "2c710f45-f018-413b-8b34-08a13c6a4f99"
      },
      "execution_count": null,
      "outputs": [
        {
          "output_type": "execute_result",
          "data": {
            "text/plain": [
              "280166"
            ]
          },
          "metadata": {},
          "execution_count": 112
        }
      ]
    },
    {
      "cell_type": "code",
      "execution_count": null,
      "metadata": {
        "colab": {
          "base_uri": "https://localhost:8080/"
        },
        "id": "7lwwuSP-dGY6",
        "outputId": "07075b70-e3d0-4c4d-eb09-062ab626afc1"
      },
      "outputs": [
        {
          "output_type": "stream",
          "name": "stderr",
          "text": [
            "<ipython-input-115-174455f9767e>:4: PerformanceWarning: \n",
            "your performance may suffer as PyTables will pickle object types that it cannot\n",
            "map directly to c-types [inferred_type->mixed,key->block0_values] [items->Index(['datetime', 'content', 'company_name', 'Date', 'ts_code', 'symbol',\n",
            "       'stock_data'],\n",
            "      dtype='object')]\n",
            "\n",
            "  news_df.to_hdf(filename, key = key)\n"
          ]
        }
      ],
      "source": [
        "news_df['stock_data'] = pd.Series(result)\n",
        "filename = \"/content/drive/MyDrive/Thesis/Data/stock_news_df.hdf\"\n",
        "key = f\"total_data\"\n",
        "news_df.to_hdf(filename, key = key)"
      ]
    }
  ],
  "metadata": {
    "colab": {
      "collapsed_sections": [
        "d1v4Fng5t2T7",
        "IQ1mnlcIupb3"
      ],
      "machine_shape": "hm",
      "provenance": [],
      "include_colab_link": true
    },
    "gpuClass": "standard",
    "kernelspec": {
      "display_name": "Python 3",
      "name": "python3"
    },
    "language_info": {
      "codemirror_mode": {
        "name": "ipython",
        "version": 3
      },
      "file_extension": ".py",
      "mimetype": "text/x-python",
      "name": "python",
      "nbconvert_exporter": "python",
      "pygments_lexer": "ipython3",
      "version": "3.9.7"
    },
    "widgets": {
      "application/vnd.jupyter.widget-state+json": {
        "1a6a45b9bc5d46478a0c806ccf421a10": {
          "model_module": "@jupyter-widgets/controls",
          "model_name": "HBoxModel",
          "model_module_version": "1.5.0",
          "state": {
            "_dom_classes": [],
            "_model_module": "@jupyter-widgets/controls",
            "_model_module_version": "1.5.0",
            "_model_name": "HBoxModel",
            "_view_count": null,
            "_view_module": "@jupyter-widgets/controls",
            "_view_module_version": "1.5.0",
            "_view_name": "HBoxView",
            "box_style": "",
            "children": [
              "IPY_MODEL_570ee85552ad4fdcb0f65d12697ff091",
              "IPY_MODEL_1a4c531b96884032b0ef7be0f4f44dd9",
              "IPY_MODEL_c3b5399ff9d849bbb0ce1bb35cf4eb75"
            ],
            "layout": "IPY_MODEL_59c6998188a54e4f91dcaffdd15fc87b"
          }
        },
        "570ee85552ad4fdcb0f65d12697ff091": {
          "model_module": "@jupyter-widgets/controls",
          "model_name": "HTMLModel",
          "model_module_version": "1.5.0",
          "state": {
            "_dom_classes": [],
            "_model_module": "@jupyter-widgets/controls",
            "_model_module_version": "1.5.0",
            "_model_name": "HTMLModel",
            "_view_count": null,
            "_view_module": "@jupyter-widgets/controls",
            "_view_module_version": "1.5.0",
            "_view_name": "HTMLView",
            "description": "",
            "description_tooltip": null,
            "layout": "IPY_MODEL_36616746d917480b948e11b431d2ec4b",
            "placeholder": "​",
            "style": "IPY_MODEL_92287d65b2e443b5a5a99541aa44b81d",
            "value": "100%"
          }
        },
        "1a4c531b96884032b0ef7be0f4f44dd9": {
          "model_module": "@jupyter-widgets/controls",
          "model_name": "FloatProgressModel",
          "model_module_version": "1.5.0",
          "state": {
            "_dom_classes": [],
            "_model_module": "@jupyter-widgets/controls",
            "_model_module_version": "1.5.0",
            "_model_name": "FloatProgressModel",
            "_view_count": null,
            "_view_module": "@jupyter-widgets/controls",
            "_view_module_version": "1.5.0",
            "_view_name": "ProgressView",
            "bar_style": "success",
            "description": "",
            "description_tooltip": null,
            "layout": "IPY_MODEL_3b12a750c51d445ab8fa998cc8ac7aa8",
            "max": 280166,
            "min": 0,
            "orientation": "horizontal",
            "style": "IPY_MODEL_507cd21a5fe2411389d0b6a2e8c19b33",
            "value": 280166
          }
        },
        "c3b5399ff9d849bbb0ce1bb35cf4eb75": {
          "model_module": "@jupyter-widgets/controls",
          "model_name": "HTMLModel",
          "model_module_version": "1.5.0",
          "state": {
            "_dom_classes": [],
            "_model_module": "@jupyter-widgets/controls",
            "_model_module_version": "1.5.0",
            "_model_name": "HTMLModel",
            "_view_count": null,
            "_view_module": "@jupyter-widgets/controls",
            "_view_module_version": "1.5.0",
            "_view_name": "HTMLView",
            "description": "",
            "description_tooltip": null,
            "layout": "IPY_MODEL_dba11974bc90467f8bba87880940e4eb",
            "placeholder": "​",
            "style": "IPY_MODEL_670cb9baca8d4959917ad492e0c018e3",
            "value": " 280166/280166 [10:42:45&lt;00:00,  7.47it/s]"
          }
        },
        "59c6998188a54e4f91dcaffdd15fc87b": {
          "model_module": "@jupyter-widgets/base",
          "model_name": "LayoutModel",
          "model_module_version": "1.2.0",
          "state": {
            "_model_module": "@jupyter-widgets/base",
            "_model_module_version": "1.2.0",
            "_model_name": "LayoutModel",
            "_view_count": null,
            "_view_module": "@jupyter-widgets/base",
            "_view_module_version": "1.2.0",
            "_view_name": "LayoutView",
            "align_content": null,
            "align_items": null,
            "align_self": null,
            "border": null,
            "bottom": null,
            "display": null,
            "flex": null,
            "flex_flow": null,
            "grid_area": null,
            "grid_auto_columns": null,
            "grid_auto_flow": null,
            "grid_auto_rows": null,
            "grid_column": null,
            "grid_gap": null,
            "grid_row": null,
            "grid_template_areas": null,
            "grid_template_columns": null,
            "grid_template_rows": null,
            "height": null,
            "justify_content": null,
            "justify_items": null,
            "left": null,
            "margin": null,
            "max_height": null,
            "max_width": null,
            "min_height": null,
            "min_width": null,
            "object_fit": null,
            "object_position": null,
            "order": null,
            "overflow": null,
            "overflow_x": null,
            "overflow_y": null,
            "padding": null,
            "right": null,
            "top": null,
            "visibility": null,
            "width": null
          }
        },
        "36616746d917480b948e11b431d2ec4b": {
          "model_module": "@jupyter-widgets/base",
          "model_name": "LayoutModel",
          "model_module_version": "1.2.0",
          "state": {
            "_model_module": "@jupyter-widgets/base",
            "_model_module_version": "1.2.0",
            "_model_name": "LayoutModel",
            "_view_count": null,
            "_view_module": "@jupyter-widgets/base",
            "_view_module_version": "1.2.0",
            "_view_name": "LayoutView",
            "align_content": null,
            "align_items": null,
            "align_self": null,
            "border": null,
            "bottom": null,
            "display": null,
            "flex": null,
            "flex_flow": null,
            "grid_area": null,
            "grid_auto_columns": null,
            "grid_auto_flow": null,
            "grid_auto_rows": null,
            "grid_column": null,
            "grid_gap": null,
            "grid_row": null,
            "grid_template_areas": null,
            "grid_template_columns": null,
            "grid_template_rows": null,
            "height": null,
            "justify_content": null,
            "justify_items": null,
            "left": null,
            "margin": null,
            "max_height": null,
            "max_width": null,
            "min_height": null,
            "min_width": null,
            "object_fit": null,
            "object_position": null,
            "order": null,
            "overflow": null,
            "overflow_x": null,
            "overflow_y": null,
            "padding": null,
            "right": null,
            "top": null,
            "visibility": null,
            "width": null
          }
        },
        "92287d65b2e443b5a5a99541aa44b81d": {
          "model_module": "@jupyter-widgets/controls",
          "model_name": "DescriptionStyleModel",
          "model_module_version": "1.5.0",
          "state": {
            "_model_module": "@jupyter-widgets/controls",
            "_model_module_version": "1.5.0",
            "_model_name": "DescriptionStyleModel",
            "_view_count": null,
            "_view_module": "@jupyter-widgets/base",
            "_view_module_version": "1.2.0",
            "_view_name": "StyleView",
            "description_width": ""
          }
        },
        "3b12a750c51d445ab8fa998cc8ac7aa8": {
          "model_module": "@jupyter-widgets/base",
          "model_name": "LayoutModel",
          "model_module_version": "1.2.0",
          "state": {
            "_model_module": "@jupyter-widgets/base",
            "_model_module_version": "1.2.0",
            "_model_name": "LayoutModel",
            "_view_count": null,
            "_view_module": "@jupyter-widgets/base",
            "_view_module_version": "1.2.0",
            "_view_name": "LayoutView",
            "align_content": null,
            "align_items": null,
            "align_self": null,
            "border": null,
            "bottom": null,
            "display": null,
            "flex": null,
            "flex_flow": null,
            "grid_area": null,
            "grid_auto_columns": null,
            "grid_auto_flow": null,
            "grid_auto_rows": null,
            "grid_column": null,
            "grid_gap": null,
            "grid_row": null,
            "grid_template_areas": null,
            "grid_template_columns": null,
            "grid_template_rows": null,
            "height": null,
            "justify_content": null,
            "justify_items": null,
            "left": null,
            "margin": null,
            "max_height": null,
            "max_width": null,
            "min_height": null,
            "min_width": null,
            "object_fit": null,
            "object_position": null,
            "order": null,
            "overflow": null,
            "overflow_x": null,
            "overflow_y": null,
            "padding": null,
            "right": null,
            "top": null,
            "visibility": null,
            "width": null
          }
        },
        "507cd21a5fe2411389d0b6a2e8c19b33": {
          "model_module": "@jupyter-widgets/controls",
          "model_name": "ProgressStyleModel",
          "model_module_version": "1.5.0",
          "state": {
            "_model_module": "@jupyter-widgets/controls",
            "_model_module_version": "1.5.0",
            "_model_name": "ProgressStyleModel",
            "_view_count": null,
            "_view_module": "@jupyter-widgets/base",
            "_view_module_version": "1.2.0",
            "_view_name": "StyleView",
            "bar_color": null,
            "description_width": ""
          }
        },
        "dba11974bc90467f8bba87880940e4eb": {
          "model_module": "@jupyter-widgets/base",
          "model_name": "LayoutModel",
          "model_module_version": "1.2.0",
          "state": {
            "_model_module": "@jupyter-widgets/base",
            "_model_module_version": "1.2.0",
            "_model_name": "LayoutModel",
            "_view_count": null,
            "_view_module": "@jupyter-widgets/base",
            "_view_module_version": "1.2.0",
            "_view_name": "LayoutView",
            "align_content": null,
            "align_items": null,
            "align_self": null,
            "border": null,
            "bottom": null,
            "display": null,
            "flex": null,
            "flex_flow": null,
            "grid_area": null,
            "grid_auto_columns": null,
            "grid_auto_flow": null,
            "grid_auto_rows": null,
            "grid_column": null,
            "grid_gap": null,
            "grid_row": null,
            "grid_template_areas": null,
            "grid_template_columns": null,
            "grid_template_rows": null,
            "height": null,
            "justify_content": null,
            "justify_items": null,
            "left": null,
            "margin": null,
            "max_height": null,
            "max_width": null,
            "min_height": null,
            "min_width": null,
            "object_fit": null,
            "object_position": null,
            "order": null,
            "overflow": null,
            "overflow_x": null,
            "overflow_y": null,
            "padding": null,
            "right": null,
            "top": null,
            "visibility": null,
            "width": null
          }
        },
        "670cb9baca8d4959917ad492e0c018e3": {
          "model_module": "@jupyter-widgets/controls",
          "model_name": "DescriptionStyleModel",
          "model_module_version": "1.5.0",
          "state": {
            "_model_module": "@jupyter-widgets/controls",
            "_model_module_version": "1.5.0",
            "_model_name": "DescriptionStyleModel",
            "_view_count": null,
            "_view_module": "@jupyter-widgets/base",
            "_view_module_version": "1.2.0",
            "_view_name": "StyleView",
            "description_width": ""
          }
        }
      }
    }
  },
  "nbformat": 4,
  "nbformat_minor": 0
}